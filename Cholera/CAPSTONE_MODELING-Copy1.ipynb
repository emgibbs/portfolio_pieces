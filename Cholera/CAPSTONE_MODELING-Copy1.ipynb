{
 "cells": [
  {
   "cell_type": "code",
   "execution_count": 8,
   "metadata": {
    "collapsed": true
   },
   "outputs": [],
   "source": [
    "import pandas as pd\n",
    "import numpy as np\n",
    "from __future__ import division\n",
    "import matplotlib.pyplot as plt\n",
    "import seaborn as sns\n",
    "%matplotlib inline\n",
    "from datetime import datetime\n",
    "import patsy\n",
    "from sklearn.ensemble import RandomForestRegressor, ExtraTreesRegressor\n",
    "from sklearn.model_selection import train_test_split\n",
    "from sklearn.metrics import accuracy_score\n",
    "from sklearn.ensemble import RandomForestClassifier, ExtraTreesClassifier\n",
    "from sklearn.metrics import roc_curve, auc, roc_auc_score\n",
    "from sklearn.metrics import confusion_matrix, classification_report\n",
    "from sklearn.preprocessing import label_binarize\n",
    "from sklearn.multiclass import OneVsRestClassifier\n",
    "from scipy import interp\n",
    "from sklearn.svm import SVC\n",
    "from sklearn.model_selection import GridSearchCV\n",
    "from sklearn import pipeline\n",
    "from sklearn.linear_model import LogisticRegression\n",
    "from sklearn.discriminant_analysis import LinearDiscriminantAnalysis\n",
    "from sklearn.neighbors import KNeighborsClassifier\n",
    "from sklearn.tree import DecisionTreeClassifier\n",
    "from sklearn.naive_bayes import GaussianNB\n",
    "from sklearn.model_selection import KFold\n",
    "from sklearn.model_selection import cross_val_score\n"
   ]
  },
  {
   "cell_type": "code",
   "execution_count": 6,
   "metadata": {
    "collapsed": true
   },
   "outputs": [],
   "source": [
    "master2 = pd.read_csv(\"~/Desktop/DSI_Capstone/master2.csv\", encoding = \"utf-8\")\n",
    "master_mi = pd.read_csv(\"~/Desktop/DSI_Capstone/mastermi.csv\", encoding = \"utf-8\")\n",
    "master_revised = pd.read_csv(\"~/Desktop/DSI_Capstone/masterrevised.csv\", encoding = \"utf-8\")"
   ]
  },
  {
   "cell_type": "code",
   "execution_count": 7,
   "metadata": {
    "collapsed": false
   },
   "outputs": [],
   "source": [
    "X = master_revised.drop([\"f_rate\", \"D1\", \"D2\", \"PU\", \"chol_per_1000\",\n",
    "                         \"death_by_chol_per_100k\", \"P\", \"CHW\", \"MI\", \"chol_cat\"], axis = 1)\n",
    "y = master_revised[\"chol_cat\"]"
   ]
  },
  {
   "cell_type": "code",
   "execution_count": null,
   "metadata": {
    "collapsed": true
   },
   "outputs": [],
   "source": [
    "X_train, X_test, y_train, y_test = "
   ]
  },
  {
   "cell_type": "code",
   "execution_count": null,
   "metadata": {
    "collapsed": true
   },
   "outputs": [],
   "source": [
    "Index([u'pop', u'F', u'LE', u'PG', u'PR', u'PRG', u'PUG', u'S', u'SU', u'SR',\n",
    "       u'W', u'WU', u'WR', u'OD', u'ODU', u'ODR', u'temp_c', u'rain_mm'],\n",
    "      dtype='object')"
   ]
  },
  {
   "cell_type": "code",
   "execution_count": 23,
   "metadata": {
    "collapsed": true
   },
   "outputs": [],
   "source": [
    "def Super_Fit_Models():\n",
    "    X = patsy.dmatrix(\"pop + F*LE + PR + PRG*PUG*PG + S*SU*SR + W*WU*WR + OD*ODU*ODR + temp_c + rain_mm\", master_revised)\n",
    "    #X = patsy.dmatrix(\"pop + F*LE*PR*PG*W*OD*S + temp_c + rain_mm\", master_revised)\n",
    "    X = pd.DataFrame(X, columns=X.design_info.column_names)\n",
    "    y = master_revised.chol_cat\n",
    "    X_train, X_test, y_train, y_test = train_test_split(X, y, random_state = 9, test_size = 0.3)\n",
    "      # prepare configuration for cross validation test harness\n",
    "    seed = 7\n",
    "      # prepare models\n",
    "    models = []\n",
    "    models.append(('LR', LogisticRegression()))\n",
    "    models.append(('LDA', LinearDiscriminantAnalysis()))\n",
    "    models.append(('KNN', KNeighborsClassifier()))\n",
    "    models.append(('CART', DecisionTreeClassifier()))\n",
    "    models.append(('NB', GaussianNB()))\n",
    "    models.append(('SVM', SVC()))\n",
    "    models.append(('RF', RandomForestClassifier()))\n",
    "      # evaluate each model in turn\n",
    "    results = []\n",
    "    names = []\n",
    "    scoring = 'accuracy'\n",
    "    for name, model in models:\n",
    "        kfold = KFold(n_splits=10, random_state=seed)\n",
    "        cv_results = cross_val_score(model, X_train, y_train, cv=kfold, scoring=scoring)\n",
    "        results.append(cv_results)\n",
    "        names.append(name)\n",
    "        msg = \"%s: %f (%f)\" % (name, cv_results.mean(), cv_results.std())\n",
    "        print(msg)\n",
    "    # boxplot algorithm comparison\n",
    "    fig = plt.figure()\n",
    "    fig.suptitle('Algorithm Comparison')\n",
    "    ax = fig.add_subplot(111)\n",
    "    plt.boxplot(results)\n",
    "    ax.set_xticklabels(names)\n",
    "    plt.show()"
   ]
  },
  {
   "cell_type": "code",
   "execution_count": 24,
   "metadata": {
    "collapsed": false
   },
   "outputs": [
    {
     "name": "stdout",
     "output_type": "stream",
     "text": [
      "LR: 0.472105 (0.084212)\n",
      "LDA: 0.573421 (0.105968)\n",
      "KNN: 0.415526 (0.148223)\n",
      "CART: 0.507632 (0.105430)\n",
      "NB: 0.497632 (0.149387)\n",
      "SVM: 0.248421 (0.087661)\n",
      "RF: 0.563684 (0.124403)\n"
     ]
    },
    {
     "data": {
      "image/png": "[encoded data removed]",
      "text/plain": [
       "<matplotlib.figure.Figure at 0x11c284990>"
      ]
     },
     "metadata": {},
     "output_type": "display_data"
    }
   ],
   "source": [
    "Super_Fit_Models()"
   ]
  },
  {
   "cell_type": "code",
   "execution_count": 25,
   "metadata": {
    "collapsed": true
   },
   "outputs": [],
   "source": [
    "X = patsy.dmatrix(\"pop + F*LE + PR + PRG*PUG*PG + S*SU*SR + W*WU*WR + OD*ODU*ODR + temp_c + rain_mm\", master_revised)\n",
    "    #X = patsy.dmatrix(\"pop + F*LE*PR*PG*W*OD*S + temp_c + rain_mm\", master_revised)\n",
    "X = pd.DataFrame(X, columns=X.design_info.column_names)\n",
    "y = master_revised.chol_cat\n",
    "X_train, X_test, y_train, y_test = train_test_split(X, y, random_state = 9, test_size = 0.3)"
   ]
  },
  {
   "cell_type": "code",
   "execution_count": 26,
   "metadata": {
    "collapsed": true
   },
   "outputs": [],
   "source": [
    "rf = RandomForestClassifier(n_jobs = -1, class_weight = \"balanced_subsample\", random_state = 88)"
   ]
  },
  {
   "cell_type": "code",
   "execution_count": 31,
   "metadata": {
    "collapsed": true
   },
   "outputs": [],
   "source": [
    "# param_grid = { \n",
    "#     'n_estimators': [200, 700],\n",
    "#     'max_features': ['auto', 'sqrt', 'log2']\n",
    "# }\n",
    "\n",
    "params = {\"n_estimators\":[10, 15, 20],\n",
    "         \"criterion\":[\"gini\", \"entropy\"],\n",
    "         \"max_depth\":[3, 4, 5],\n",
    "          \"class_weight\":[\"balanced\", \"balanced_subsample\", None]\n",
    "         }"
   ]
  },
  {
   "cell_type": "code",
   "execution_count": 32,
   "metadata": {
    "collapsed": true
   },
   "outputs": [],
   "source": [
    "rfcv = GridSearchCV(estimator = rf, param_grid = params, cv = 5, verbose = 1)"
   ]
  },
  {
   "cell_type": "code",
   "execution_count": 33,
   "metadata": {
    "collapsed": false,
    "scrolled": true
   },
   "outputs": [
    {
     "name": "stdout",
     "output_type": "stream",
     "text": [
      "Fitting 5 folds for each of 54 candidates, totalling 270 fits\n"
     ]
    },
    {
     "name": "stderr",
     "output_type": "stream",
     "text": [
      "[Parallel(n_jobs=1)]: Done 270 out of 270 | elapsed:  2.5min finished\n"
     ]
    },
    {
     "data": {
      "text/plain": [
       "GridSearchCV(cv=5, error_score='raise',\n",
       "       estimator=RandomForestClassifier(bootstrap=True, class_weight='balanced_subsample',\n",
       "            criterion='gini', max_depth=None, max_features='auto',\n",
       "            max_leaf_nodes=None, min_impurity_split=1e-07,\n",
       "            min_samples_leaf=1, min_samples_split=2,\n",
       "            min_weight_fraction_leaf=0.0, n_estimators=10, n_jobs=-1,\n",
       "            oob_score=False, random_state=88, verbose=0, warm_start=False),\n",
       "       fit_params={}, iid=True, n_jobs=1,\n",
       "       param_grid={'n_estimators': [10, 15, 20], 'criterion': ['gini', 'entropy'], 'max_depth': [3, 4, 5], 'class_weight': ['balanced', 'balanced_subsample', None]},\n",
       "       pre_dispatch='2*n_jobs', refit=True, return_train_score=True,\n",
       "       scoring=None, verbose=1)"
      ]
     },
     "execution_count": 33,
     "metadata": {},
     "output_type": "execute_result"
    }
   ],
   "source": [
    "rfcv.fit(X, y)"
   ]
  },
  {
   "cell_type": "code",
   "execution_count": 34,
   "metadata": {
    "collapsed": false
   },
   "outputs": [
    {
     "name": "stdout",
     "output_type": "stream",
     "text": [
      "{'n_estimators': 10, 'criterion': 'entropy', 'max_depth': 3, 'class_weight': 'balanced_subsample'}\n"
     ]
    }
   ],
   "source": [
    "print rfcv.best_params_"
   ]
  },
  {
   "cell_type": "code",
   "execution_count": 35,
   "metadata": {
    "collapsed": true
   },
   "outputs": [],
   "source": [
    "rf = RandomForestClassifier(n_jobs = -1, class_weight = \"balanced_subsample\", random_state = 41, criterion = \"entropy\", max_depth = 3)"
   ]
  },
  {
   "cell_type": "code",
   "execution_count": 36,
   "metadata": {
    "collapsed": false
   },
   "outputs": [
    {
     "data": {
      "text/plain": [
       "RandomForestClassifier(bootstrap=True, class_weight='balanced_subsample',\n",
       "            criterion='entropy', max_depth=3, max_features='auto',\n",
       "            max_leaf_nodes=None, min_impurity_split=1e-07,\n",
       "            min_samples_leaf=1, min_samples_split=2,\n",
       "            min_weight_fraction_leaf=0.0, n_estimators=10, n_jobs=-1,\n",
       "            oob_score=False, random_state=41, verbose=0, warm_start=False)"
      ]
     },
     "execution_count": 36,
     "metadata": {},
     "output_type": "execute_result"
    }
   ],
   "source": [
    "rf.fit(X_train, y_train)"
   ]
  },
  {
   "cell_type": "code",
   "execution_count": 37,
   "metadata": {
    "collapsed": false
   },
   "outputs": [
    {
     "name": "stdout",
     "output_type": "stream",
     "text": [
      "0.611764705882\n"
     ]
    }
   ],
   "source": [
    "y_pred = rf.predict(X_test)\n",
    "print rf.score(X_test, y_test)"
   ]
  },
  {
   "cell_type": "code",
   "execution_count": 43,
   "metadata": {
    "collapsed": false
   },
   "outputs": [
    {
     "data": {
      "text/plain": [
       "(-1, 36)"
      ]
     },
     "execution_count": 43,
     "metadata": {},
     "output_type": "execute_result"
    },
    {
     "data": {
      "image/png": "[encoded data removed]",
      "text/plain": [
       "<matplotlib.figure.Figure at 0x11e9c6410>"
      ]
     },
     "metadata": {},
     "output_type": "display_data"
    }
   ],
   "source": [
    "sns.set(font_scale = 0.9)\n",
    "plt.style.use(\"ggplot\")\n",
    "all(rf.feature_importances_ == np.mean([tree.feature_importances_ for tree in rf.estimators_], axis=0))\n",
    "\n",
    "importances = rf.feature_importances_\n",
    "# calculate the standard deviation of feature importances by looping over the trees in the random forest\n",
    "\n",
    "std = np.std([tree.feature_importances_ for tree in rf.estimators_], axis=0)\n",
    "\n",
    "indices = np.argsort(importances)[::-1]\n",
    "feature_names = X.columns\n",
    "\n",
    "# Plot the feature importances of the forest\n",
    "fig1 = plt.figure()\n",
    "plt.title(\"Feature importances\")\n",
    "plt.bar(range(X.shape[1]), importances[indices],\n",
    "       color=\"r\", yerr=std[indices], align=\"center\")\n",
    "plt.xticks(range(X.shape[1]), feature_names[indices], rotation=90)\n",
    "plt.xlim([-1, X.shape[1]])"
   ]
  },
  {
   "cell_type": "code",
   "execution_count": null,
   "metadata": {
    "collapsed": true
   },
   "outputs": [],
   "source": [
    "# SU, F:LE, LE, SR, W:WU, S, WU:WR, temp_c, W, S:SU, WU,\n",
    "# temp_c + F*LE + S*SU*SR + W*WU*WR"
   ]
  },
  {
   "cell_type": "code",
   "execution_count": 46,
   "metadata": {
    "collapsed": true
   },
   "outputs": [],
   "source": [
    "def Super_Fit_Models_2():\n",
    "    X = patsy.dmatrix(\"SU + F:LE + SR + W:WU + S + WU:WR + LE + temp_c + W + S:SU + WU\", master_revised)\n",
    "    #X = patsy.dmatrix(\"temp_c + F*LE + S*SU*SR + W*WU*WR\", master_revised)\n",
    "    #X = patsy.dmatrix(\"pop + F*LE*PR*PG*W*OD*S + temp_c + rain_mm\", master_revised)\n",
    "    X = pd.DataFrame(X, columns=X.design_info.column_names)\n",
    "    y = master_revised.chol_cat\n",
    "    X_train, X_test, y_train, y_test = train_test_split(X, y, random_state = 9, test_size = 0.3)\n",
    "      # prepare configuration for cross validation test harness\n",
    "    seed = 7\n",
    "      # prepare models\n",
    "    models = []\n",
    "    models.append(('LR', LogisticRegression()))\n",
    "    models.append(('LDA', LinearDiscriminantAnalysis()))\n",
    "    models.append(('KNN', KNeighborsClassifier()))\n",
    "    models.append(('CART', DecisionTreeClassifier()))\n",
    "    models.append(('NB', GaussianNB()))\n",
    "    models.append(('SVM', SVC()))\n",
    "    models.append(('RF', RandomForestClassifier()))\n",
    "      # evaluate each model in turn\n",
    "    results = []\n",
    "    names = []\n",
    "    scoring = 'accuracy'\n",
    "    for name, model in models:\n",
    "        kfold = KFold(n_splits=10, random_state=seed)\n",
    "        cv_results = cross_val_score(model, X_train, y_train, cv=kfold, scoring=scoring)\n",
    "        results.append(cv_results)\n",
    "        names.append(name)\n",
    "        msg = \"%s: %f (%f)\" % (name, cv_results.mean(), cv_results.std())\n",
    "        print(msg)\n",
    "    # boxplot algorithm comparison\n",
    "    fig = plt.figure()\n",
    "    fig.suptitle('Algorithm Comparison')\n",
    "    ax = fig.add_subplot(111)\n",
    "    plt.boxplot(results)\n",
    "    ax.set_xticklabels(names)\n",
    "    plt.show()"
   ]
  },
  {
   "cell_type": "code",
   "execution_count": 47,
   "metadata": {
    "collapsed": false
   },
   "outputs": [
    {
     "name": "stdout",
     "output_type": "stream",
     "text": [
      "LR: 0.563421 (0.084247)\n",
      "LDA: 0.583421 (0.100532)\n",
      "KNN: 0.518421 (0.111940)\n",
      "CART: 0.497368 (0.143265)\n",
      "NB: 0.569474 (0.141525)\n",
      "SVM: 0.294211 (0.035537)\n",
      "RF: 0.543947 (0.130639)\n"
     ]
    },
    {
     "data": {
      "image/png": "[encoded data removed]",
      "text/plain": [
       "<matplotlib.figure.Figure at 0x10f83d210>"
      ]
     },
     "metadata": {},
     "output_type": "display_data"
    }
   ],
   "source": [
    "Super_Fit_Models_2()"
   ]
  },
  {
   "cell_type": "code",
   "execution_count": 48,
   "metadata": {
    "collapsed": true
   },
   "outputs": [],
   "source": [
    "gnb = GaussianNB()"
   ]
  },
  {
   "cell_type": "code",
   "execution_count": 49,
   "metadata": {
    "collapsed": true
   },
   "outputs": [],
   "source": [
    "X = patsy.dmatrix(\"SU + F:LE + SR + W:WU + S + WU:WR + LE + temp_c + W + S:SU + WU\", master_revised)\n",
    "    #X = patsy.dmatrix(\"temp_c + F*LE + S*SU*SR + W*WU*WR\", master_revised)\n",
    "    #X = patsy.dmatrix(\"pop + F*LE*PR*PG*W*OD*S + temp_c + rain_mm\", master_revised)\n",
    "X = pd.DataFrame(X, columns=X.design_info.column_names)\n",
    "y = master_revised.chol_cat\n",
    "X_train, X_test, y_train, y_test = train_test_split(X, y, random_state = 9, test_size = 0.3)"
   ]
  },
  {
   "cell_type": "code",
   "execution_count": 50,
   "metadata": {
    "collapsed": false
   },
   "outputs": [
    {
     "data": {
      "text/plain": [
       "GaussianNB(priors=None)"
      ]
     },
     "execution_count": 50,
     "metadata": {},
     "output_type": "execute_result"
    }
   ],
   "source": [
    "gnb.fit(X_train, y_train)"
   ]
  },
  {
   "cell_type": "code",
   "execution_count": 51,
   "metadata": {
    "collapsed": false
   },
   "outputs": [
    {
     "name": "stdout",
     "output_type": "stream",
     "text": [
      "0.588235294118\n"
     ]
    }
   ],
   "source": [
    "y_pred = gnb.predict(X_test)\n",
    "print gnb.score(X_test, y_test)"
   ]
  },
  {
   "cell_type": "code",
   "execution_count": 54,
   "metadata": {
    "collapsed": false
   },
   "outputs": [
    {
     "data": {
      "text/plain": [
       "array([[20,  1,  1,  0],\n",
       "       [ 3,  7,  4,  1],\n",
       "       [ 2,  2,  7,  9],\n",
       "       [ 0,  2, 10, 16]])"
      ]
     },
     "execution_count": 54,
     "metadata": {},
     "output_type": "execute_result"
    }
   ],
   "source": [
    "confusion_matrix(y_test, y_pred)"
   ]
  },
  {
   "cell_type": "code",
   "execution_count": 56,
   "metadata": {
    "collapsed": false
   },
   "outputs": [
    {
     "name": "stdout",
     "output_type": "stream",
     "text": [
      "             precision    recall  f1-score   support\n",
      "\n",
      "          1       0.80      0.91      0.85        22\n",
      "          2       0.58      0.47      0.52        15\n",
      "          3       0.32      0.35      0.33        20\n",
      "          4       0.62      0.57      0.59        28\n",
      "\n",
      "avg / total       0.59      0.59      0.59        85\n",
      "\n"
     ]
    }
   ],
   "source": [
    "print classification_report(y_test, y_pred)"
   ]
  },
  {
   "cell_type": "code",
   "execution_count": 58,
   "metadata": {
    "collapsed": false
   },
   "outputs": [],
   "source": [
    "Xrf = patsy.dmatrix(\"pop + F*LE + PR + PRG*PUG*PG + S*SU*SR + W*WU*WR + OD*ODU*ODR + temp_c + rain_mm\", master_revised)\n",
    "    #X = patsy.dmatrix(\"pop + F*LE*PR*PG*W*OD*S + temp_c + rain_mm\", master_revised)\n",
    "Xrf = pd.DataFrame(Xrf, columns=Xrf.design_info.column_names)\n",
    "yrf = master_revised.chol_cat\n",
    "Xrf_train, Xrf_test, yrf_train, yrf_test = train_test_split(Xrf, yrf, random_state = 9, test_size = 0.3)"
   ]
  },
  {
   "cell_type": "code",
   "execution_count": 59,
   "metadata": {
    "collapsed": true
   },
   "outputs": [],
   "source": [
    "rf = RandomForestClassifier(n_jobs = -1, class_weight = \"balanced_subsample\", random_state = 41, criterion = \"entropy\", max_depth = 3)"
   ]
  },
  {
   "cell_type": "code",
   "execution_count": 61,
   "metadata": {
    "collapsed": false
   },
   "outputs": [
    {
     "name": "stdout",
     "output_type": "stream",
     "text": [
      "0.611764705882\n"
     ]
    }
   ],
   "source": [
    "rf.fit(Xrf_train, yrf_train)\n",
    "yrf_pred = rf.predict(Xrf_test)\n",
    "print rf.score(Xrf_test, yrf_test)"
   ]
  },
  {
   "cell_type": "code",
   "execution_count": 62,
   "metadata": {
    "collapsed": false
   },
   "outputs": [
    {
     "data": {
      "text/plain": [
       "array([[20,  1,  1,  0],\n",
       "       [ 0,  9,  5,  1],\n",
       "       [ 0,  4, 11,  5],\n",
       "       [ 1,  2, 13, 12]])"
      ]
     },
     "execution_count": 62,
     "metadata": {},
     "output_type": "execute_result"
    }
   ],
   "source": [
    "confusion_matrix(yrf_test, yrf_pred)"
   ]
  },
  {
   "cell_type": "code",
   "execution_count": 63,
   "metadata": {
    "collapsed": false
   },
   "outputs": [
    {
     "name": "stdout",
     "output_type": "stream",
     "text": [
      "             precision    recall  f1-score   support\n",
      "\n",
      "          1       0.95      0.91      0.93        22\n",
      "          2       0.56      0.60      0.58        15\n",
      "          3       0.37      0.55      0.44        20\n",
      "          4       0.67      0.43      0.52        28\n",
      "\n",
      "avg / total       0.65      0.61      0.62        85\n",
      "\n"
     ]
    }
   ],
   "source": [
    "print classification_report(yrf_test, yrf_pred)"
   ]
  },
  {
   "cell_type": "code",
   "execution_count": 64,
   "metadata": {
    "collapsed": true
   },
   "outputs": [],
   "source": [
    "##Classification Report:\n",
    "#Precision: when predicting, 0, how often correct? = TN / TN + FN  \n",
    "    #when predicting 1, how often correct? = TP / TP + FP \n",
    "    \n",
    "#Recall(1) = Sensitivity = TP / TP + FN = \n",
    "    #Recall(0) = How often does model predict no, when it is actually no?\n",
    "            #TN / TN + FP\n",
    "#f1-score = weighted average of precision and recall\n",
    "    #f1 = 2*(precision*recall) / (precision+recall)\n",
    "\n",
    "#support = number of observations for each class in actual data (not predictions)"
   ]
  },
  {
   "cell_type": "code",
   "execution_count": 80,
   "metadata": {
    "collapsed": true
   },
   "outputs": [],
   "source": [
    "Xrf2 = patsy.dmatrix(\"SU + F:LE + SR + W:WU + S + WU:WR + LE + temp_c + W + S:SU + WU\", master_revised)\n",
    "    #X = patsy.dmatrix(\"temp_c + F*LE + S*SU*SR + W*WU*WR\", master_revised)\n",
    "    #X = patsy.dmatrix(\"pop + F*LE*PR*PG*W*OD*S + temp_c + rain_mm\", master_revised)\n",
    "Xrf2 = pd.DataFrame(Xrf2, columns=Xrf2.design_info.column_names)\n",
    "yrf2 = master_revised.chol_cat\n",
    "Xrf2_train, Xrf2_test, yrf2_train, yrf2_test = train_test_split(Xrf2, yrf2, stratify = yrf2, random_state = 9, test_size = 0.3)"
   ]
  },
  {
   "cell_type": "code",
   "execution_count": 81,
   "metadata": {
    "collapsed": true
   },
   "outputs": [],
   "source": [
    "rf2 = RandomForestClassifier(n_jobs = -1, class_weight = \"balanced_subsample\", random_state = 41, criterion = \"entropy\", max_depth = 3)"
   ]
  },
  {
   "cell_type": "code",
   "execution_count": 82,
   "metadata": {
    "collapsed": false
   },
   "outputs": [
    {
     "name": "stdout",
     "output_type": "stream",
     "text": [
      "0.552941176471\n"
     ]
    }
   ],
   "source": [
    "rf2.fit(Xrf2_train, yrf2_train)\n",
    "yrf2_pred = rf2.predict(Xrf2_test)\n",
    "print rf2.score(Xrf2_test, yrf2_test)"
   ]
  },
  {
   "cell_type": "code",
   "execution_count": 83,
   "metadata": {
    "collapsed": false
   },
   "outputs": [
    {
     "data": {
      "text/plain": [
       "array([[15,  5,  0,  2],\n",
       "       [ 3,  8,  6,  4],\n",
       "       [ 0,  4,  8,  9],\n",
       "       [ 0,  1,  4, 16]])"
      ]
     },
     "execution_count": 83,
     "metadata": {},
     "output_type": "execute_result"
    }
   ],
   "source": [
    "confusion_matrix(yrf2_test, yrf2_pred)"
   ]
  },
  {
   "cell_type": "code",
   "execution_count": 84,
   "metadata": {
    "collapsed": false
   },
   "outputs": [
    {
     "name": "stdout",
     "output_type": "stream",
     "text": [
      "             precision    recall  f1-score   support\n",
      "\n",
      "          1       0.83      0.68      0.75        22\n",
      "          2       0.44      0.38      0.41        21\n",
      "          3       0.44      0.38      0.41        21\n",
      "          4       0.52      0.76      0.62        21\n",
      "\n",
      "avg / total       0.56      0.55      0.55        85\n",
      "\n"
     ]
    }
   ],
   "source": [
    "print classification_report(yrf2_test, yrf2_pred)"
   ]
  },
  {
   "cell_type": "code",
   "execution_count": null,
   "metadata": {
    "collapsed": true
   },
   "outputs": [],
   "source": [
    "##let's rethink the classes we're predicting"
   ]
  },
  {
   "cell_type": "code",
   "execution_count": 86,
   "metadata": {
    "collapsed": false
   },
   "outputs": [
    {
     "name": "stdout",
     "output_type": "stream",
     "text": [
      "33.5450655453\n",
      "0.0816296069642\n",
      "0.0079627039732\n",
      "0.00026282364341\n"
     ]
    }
   ],
   "source": [
    "Q3 = np.percentile(master_revised.chol_per_1000, 75)\n",
    "Q4 = np.percentile(master_revised.chol_per_1000, 100)\n",
    "Q2 = np.percentile(master_revised.chol_per_1000, 50)\n",
    "Q1 = np.percentile(master_revised.chol_per_1000, 25)\n",
    "print Q4\n",
    "print Q3\n",
    "print Q2\n",
    "print Q1"
   ]
  },
  {
   "cell_type": "code",
   "execution_count": 88,
   "metadata": {
    "collapsed": false
   },
   "outputs": [],
   "source": [
    "cholmax = np.percentile(master_revised.chol_per_1000, 100)"
   ]
  },
  {
   "cell_type": "code",
   "execution_count": 89,
   "metadata": {
    "collapsed": true
   },
   "outputs": [],
   "source": [
    "def cut_it_twice(numseries):\n",
    "    try:\n",
    "        if numseries <= 0.17:\n",
    "            return 1\n",
    "        elif numseries <= 0.55:\n",
    "            return 2\n",
    "        elif numseries <= cholmax:\n",
    "            return 3\n",
    "    except:\n",
    "        pass"
   ]
  },
  {
   "cell_type": "code",
   "execution_count": 91,
   "metadata": {
    "collapsed": false
   },
   "outputs": [],
   "source": [
    "master_revised[\"chol_cat_3\"] = master_revised.apply(lambda row: cut_it_twice(row[\"chol_per_1000\"]), axis = 1)"
   ]
  },
  {
   "cell_type": "code",
   "execution_count": 92,
   "metadata": {
    "collapsed": false
   },
   "outputs": [
    {
     "data": {
      "text/plain": [
       "1    228\n",
       "2     30\n",
       "3     24\n",
       "Name: chol_cat_3, dtype: int64"
      ]
     },
     "execution_count": 92,
     "metadata": {},
     "output_type": "execute_result"
    }
   ],
   "source": [
    "master_revised.chol_cat_3.value_counts()"
   ]
  },
  {
   "cell_type": "code",
   "execution_count": 95,
   "metadata": {
    "collapsed": false
   },
   "outputs": [
    {
     "data": {
      "text/plain": [
       "0.8085106382978723"
      ]
     },
     "execution_count": 95,
     "metadata": {},
     "output_type": "execute_result"
    }
   ],
   "source": [
    "228 / (228+30+24) ## 80.9% of data is below \"average\" cholera rate"
   ]
  },
  {
   "cell_type": "code",
   "execution_count": 96,
   "metadata": {
    "collapsed": false
   },
   "outputs": [
    {
     "data": {
      "text/plain": [
       "0.10638297872340426"
      ]
     },
     "execution_count": 96,
     "metadata": {},
     "output_type": "execute_result"
    }
   ],
   "source": [
    "30 / (228+30+24) ## 10.6% of data is \"average\" cholera rate"
   ]
  },
  {
   "cell_type": "code",
   "execution_count": 97,
   "metadata": {
    "collapsed": false
   },
   "outputs": [
    {
     "data": {
      "text/plain": [
       "0.0851063829787234"
      ]
     },
     "execution_count": 97,
     "metadata": {},
     "output_type": "execute_result"
    }
   ],
   "source": [
    "24 / (228+30+24) ## 08.5% of data is above \"average\" cholera rate"
   ]
  },
  {
   "cell_type": "code",
   "execution_count": 99,
   "metadata": {
    "collapsed": true
   },
   "outputs": [],
   "source": [
    "def Super_Fit_Models_2():\n",
    "    X = patsy.dmatrix(\"SU + F:LE + SR + W:WU + S + WU:WR + LE + temp_c + W + S:SU + WU\", master_revised)\n",
    "    #X = patsy.dmatrix(\"temp_c + F*LE + S*SU*SR + W*WU*WR\", master_revised)\n",
    "    #X = patsy.dmatrix(\"pop + F*LE*PR*PG*W*OD*S + temp_c + rain_mm\", master_revised)\n",
    "    X = pd.DataFrame(X, columns=X.design_info.column_names)\n",
    "    y = master_revised.chol_cat_3\n",
    "    X_train, X_test, y_train, y_test = train_test_split(X, y, random_state = 9, test_size = 0.3)\n",
    "      # prepare configuration for cross validation test harness\n",
    "    seed = 7\n",
    "      # prepare models\n",
    "    models = []\n",
    "    models.append(('LR', LogisticRegression()))\n",
    "    models.append(('LDA', LinearDiscriminantAnalysis()))\n",
    "    models.append(('KNN', KNeighborsClassifier()))\n",
    "    models.append(('CART', DecisionTreeClassifier()))\n",
    "    models.append(('NB', GaussianNB()))\n",
    "    models.append(('SVM', SVC()))\n",
    "    models.append(('RF', RandomForestClassifier()))\n",
    "      # evaluate each model in turn\n",
    "    results = []\n",
    "    names = []\n",
    "    scoring = 'accuracy'\n",
    "    for name, model in models:\n",
    "        kfold = KFold(n_splits=10, random_state=seed)\n",
    "        cv_results = cross_val_score(model, X_train, y_train, cv=kfold, scoring=scoring)\n",
    "        results.append(cv_results)\n",
    "        names.append(name)\n",
    "        msg = \"%s: %f (%f)\" % (name, cv_results.mean(), cv_results.std())\n",
    "        print(msg)\n",
    "    # boxplot algorithm comparison\n",
    "    fig = plt.figure()\n",
    "    fig.suptitle('Algorithm Comparison')\n",
    "    ax = fig.add_subplot(111)\n",
    "    plt.boxplot(results)\n",
    "    ax.set_xticklabels(names)\n",
    "    plt.show()"
   ]
  },
  {
   "cell_type": "code",
   "execution_count": 100,
   "metadata": {
    "collapsed": false
   },
   "outputs": [
    {
     "name": "stdout",
     "output_type": "stream",
     "text": [
      "LR: 0.853421 (0.056060)\n",
      "LDA: 0.848421 (0.083078)\n",
      "KNN: 0.838421 (0.061403)\n",
      "CART: 0.782105 (0.074076)\n",
      "NB: 0.665263 (0.086777)\n",
      "SVM: 0.833158 (0.073667)\n",
      "RF: 0.833158 (0.066535)\n"
     ]
    },
    {
     "data": {
      "image/png": "[encoded data removed]",
      "text/plain": [
       "<matplotlib.figure.Figure at 0x11e947cd0>"
      ]
     },
     "metadata": {},
     "output_type": "display_data"
    }
   ],
   "source": [
    "Super_Fit_Models_2()"
   ]
  },
  {
   "cell_type": "code",
   "execution_count": 101,
   "metadata": {
    "collapsed": true
   },
   "outputs": [],
   "source": [
    "XX = patsy.dmatrix(\"SU + F:LE + SR + W:WU + S + WU:WR + LE + temp_c + W + S:SU + WU\", master_revised)\n",
    "    #X = patsy.dmatrix(\"temp_c + F*LE + S*SU*SR + W*WU*WR\", master_revised)\n",
    "    #X = patsy.dmatrix(\"pop + F*LE*PR*PG*W*OD*S + temp_c + rain_mm\", master_revised)\n",
    "XX = pd.DataFrame(XX, columns=XX.design_info.column_names)\n",
    "yy = master_revised.chol_cat_3\n",
    "XX_train, XX_test, yy_train, yy_test = train_test_split(XX, yy, stratify = yy, random_state = 9, test_size = 0.3)"
   ]
  },
  {
   "cell_type": "code",
   "execution_count": 104,
   "metadata": {
    "collapsed": true
   },
   "outputs": [],
   "source": [
    "rf3 = RandomForestClassifier(n_jobs = -1, class_weight = {1:0.809, 2:0.106, 3:.085}, random_state = 88)"
   ]
  },
  {
   "cell_type": "code",
   "execution_count": 105,
   "metadata": {
    "collapsed": true
   },
   "outputs": [],
   "source": [
    "rf3cv = GridSearchCV(estimator = rf, param_grid = params, cv = 5, verbose = 1)"
   ]
  },
  {
   "cell_type": "code",
   "execution_count": 106,
   "metadata": {
    "collapsed": false
   },
   "outputs": [
    {
     "name": "stdout",
     "output_type": "stream",
     "text": [
      "Fitting 5 folds for each of 54 candidates, totalling 270 fits\n"
     ]
    },
    {
     "name": "stderr",
     "output_type": "stream",
     "text": [
      "[Parallel(n_jobs=1)]: Done 270 out of 270 | elapsed:  2.4min finished\n"
     ]
    },
    {
     "data": {
      "text/plain": [
       "GridSearchCV(cv=5, error_score='raise',\n",
       "       estimator=RandomForestClassifier(bootstrap=True, class_weight='balanced_subsample',\n",
       "            criterion='entropy', max_depth=3, max_features='auto',\n",
       "            max_leaf_nodes=None, min_impurity_split=1e-07,\n",
       "            min_samples_leaf=1, min_samples_split=2,\n",
       "            min_weight_fraction_leaf=0.0, n_estimators=10, n_jobs=-1,\n",
       "            oob_score=False, random_state=41, verbose=0, warm_start=False),\n",
       "       fit_params={}, iid=True, n_jobs=1,\n",
       "       param_grid={'n_estimators': [10, 15, 20], 'criterion': ['gini', 'entropy'], 'max_depth': [3, 4, 5], 'class_weight': ['balanced', 'balanced_subsample', None]},\n",
       "       pre_dispatch='2*n_jobs', refit=True, return_train_score=True,\n",
       "       scoring=None, verbose=1)"
      ]
     },
     "execution_count": 106,
     "metadata": {},
     "output_type": "execute_result"
    }
   ],
   "source": [
    "rf3cv.fit(XX, yy)"
   ]
  },
  {
   "cell_type": "code",
   "execution_count": 107,
   "metadata": {
    "collapsed": false
   },
   "outputs": [
    {
     "name": "stdout",
     "output_type": "stream",
     "text": [
      "{'n_estimators': 10, 'criterion': 'gini', 'max_depth': 4, 'class_weight': None}\n"
     ]
    }
   ],
   "source": [
    "print rf3cv.best_params_"
   ]
  },
  {
   "cell_type": "code",
   "execution_count": 182,
   "metadata": {
    "collapsed": true
   },
   "outputs": [],
   "source": [
    "rftuned = RandomForestClassifier(n_jobs = -1, class_weight = {1:0.8, 2:5, 3:15},\n",
    "                             max_depth = 4, random_state = 88)"
   ]
  },
  {
   "cell_type": "code",
   "execution_count": 183,
   "metadata": {
    "collapsed": false
   },
   "outputs": [
    {
     "name": "stdout",
     "output_type": "stream",
     "text": [
      "0.811764705882\n"
     ]
    }
   ],
   "source": [
    "rftuned.fit(XX_train, yy_train)\n",
    "yy_pred = rftuned.predict(XX_test)\n",
    "print rftuned.score(XX_test, yy_test)"
   ]
  },
  {
   "cell_type": "code",
   "execution_count": 184,
   "metadata": {
    "collapsed": false
   },
   "outputs": [
    {
     "data": {
      "text/plain": [
       "array([[58,  7,  4],\n",
       "       [ 1,  7,  1],\n",
       "       [ 2,  1,  4]])"
      ]
     },
     "execution_count": 184,
     "metadata": {},
     "output_type": "execute_result"
    }
   ],
   "source": [
    "confusion_matrix(yy_test, yy_pred)"
   ]
  },
  {
   "cell_type": "code",
   "execution_count": 185,
   "metadata": {
    "collapsed": false
   },
   "outputs": [
    {
     "name": "stdout",
     "output_type": "stream",
     "text": [
      "             precision    recall  f1-score   support\n",
      "\n",
      "          1       0.95      0.84      0.89        69\n",
      "          2       0.47      0.78      0.58         9\n",
      "          3       0.44      0.57      0.50         7\n",
      "\n",
      "avg / total       0.86      0.81      0.83        85\n",
      "\n"
     ]
    }
   ],
   "source": [
    "print classification_report(yy_test, yy_pred)"
   ]
  },
  {
   "cell_type": "code",
   "execution_count": 115,
   "metadata": {
    "collapsed": false
   },
   "outputs": [
    {
     "data": {
      "text/plain": [
       "array([[66,  3,  0],\n",
       "       [ 6,  3,  0],\n",
       "       [ 4,  2,  1]])"
      ]
     },
     "execution_count": 115,
     "metadata": {},
     "output_type": "execute_result"
    }
   ],
   "source": [
    "confusion_matrix(yy_test, yyw_pred)"
   ]
  },
  {
   "cell_type": "code",
   "execution_count": 198,
   "metadata": {
    "collapsed": false,
    "scrolled": false
   },
   "outputs": [
    {
     "data": {
      "text/plain": [
       "(-1, 12)"
      ]
     },
     "execution_count": 198,
     "metadata": {},
     "output_type": "execute_result"
    },
    {
     "data": {
      "image/png": "[encoded data removed]",
      "text/plain": [
       "<matplotlib.figure.Figure at 0x11e382dd0>"
      ]
     },
     "metadata": {},
     "output_type": "display_data"
    }
   ],
   "source": [
    "plt.style.use(\"ggplot\")\n",
    "all(rftuned.feature_importances_ == np.mean([tree.feature_importances_ for tree in rftuned.estimators_], axis=0))\n",
    "\n",
    "importances = rftuned.feature_importances_\n",
    "# calculate the standard deviation of feature importances by looping over the trees in the random forest\n",
    "\n",
    "std = np.std([tree.feature_importances_ for tree in rftuned.estimators_], axis=0)\n",
    "\n",
    "indices = np.argsort(importances)[::-1]\n",
    "feature_names = XX.columns\n",
    "\n",
    "# Plot the feature importances of the forest\n",
    "fig1 = plt.figure()\n",
    "plt.title(\"Feature importances for Tuned Random Forest\")\n",
    "plt.bar(range(XX.shape[1]), importances[indices],\n",
    "       color=\"c\", yerr=std[indices], align=\"center\")\n",
    "plt.xticks(range(XX.shape[1]), feature_names[indices], rotation=90)\n",
    "plt.xlim([-1, XX.shape[1]])"
   ]
  },
  {
   "cell_type": "code",
   "execution_count": null,
   "metadata": {
    "collapsed": true
   },
   "outputs": [],
   "source": [
    "# rfcv3 = GridSearchCV(estimator = rftuned, param_grid = params, cv = 5, verbose = 1)"
   ]
  },
  {
   "cell_type": "code",
   "execution_count": 199,
   "metadata": {
    "collapsed": true
   },
   "outputs": [],
   "source": [
    "master_revised.to_csv(\"~/Desktop/DSI_Capstone/masterrevised2.csv\", encoding = \"utf-8\", index = False)"
   ]
  },
  {
   "cell_type": "code",
   "execution_count": 223,
   "metadata": {
    "collapsed": false
   },
   "outputs": [
    {
     "data": {
      "text/plain": [
       "<seaborn.axisgrid.JointGrid at 0x122131fd0>"
      ]
     },
     "execution_count": 223,
     "metadata": {},
     "output_type": "execute_result"
    },
    {
     "data": {
      "image/png": "[encoded data removed]",
      "text/plain": [
       "<matplotlib.figure.Figure at 0x123255250>"
      ]
     },
     "metadata": {},
     "output_type": "display_data"
    }
   ],
   "source": [
    "sx = master_revised.W\n",
    "sy = master_revised.S\n",
    "sns.jointplot(sx, sy, kind = \"hex\", cmap = \"summer\")"
   ]
  },
  {
   "cell_type": "code",
   "execution_count": 224,
   "metadata": {
    "collapsed": false
   },
   "outputs": [
    {
     "data": {
      "text/plain": [
       "<seaborn.axisgrid.JointGrid at 0x120266a10>"
      ]
     },
     "execution_count": 224,
     "metadata": {},
     "output_type": "execute_result"
    },
    {
     "data": {
      "image/png": "[encoded data removed]",
      "text/plain": [
       "<matplotlib.figure.Figure at 0x120d02850>"
      ]
     },
     "metadata": {},
     "output_type": "display_data"
    }
   ],
   "source": [
    "sx = master_revised.WU\n",
    "sy = master_revised.SU\n",
    "sns.jointplot(sx, sy, kind = \"hex\", cmap = \"summer\")"
   ]
  },
  {
   "cell_type": "code",
   "execution_count": 225,
   "metadata": {
    "collapsed": false
   },
   "outputs": [
    {
     "data": {
      "text/plain": [
       "<seaborn.axisgrid.JointGrid at 0x122b35510>"
      ]
     },
     "execution_count": 225,
     "metadata": {},
     "output_type": "execute_result"
    },
    {
     "data": {
      "image/png": "[encoded data removed]",
      "text/plain": [
       "<matplotlib.figure.Figure at 0x121d5d290>"
      ]
     },
     "metadata": {},
     "output_type": "display_data"
    }
   ],
   "source": [
    "sx = master_revised.WR\n",
    "sy = master_revised.SR\n",
    "sns.jointplot(sx, sy, kind = \"hex\", cmap = \"summer\")"
   ]
  },
  {
   "cell_type": "code",
   "execution_count": 227,
   "metadata": {
    "collapsed": false
   },
   "outputs": [
    {
     "data": {
      "text/plain": [
       "<seaborn.axisgrid.JointGrid at 0x11f96de10>"
      ]
     },
     "execution_count": 227,
     "metadata": {},
     "output_type": "execute_result"
    },
    {
     "data": {
      "image/png": "[encoded data removed]",
      "text/plain": [
       "<matplotlib.figure.Figure at 0x121422b10>"
      ]
     },
     "metadata": {},
     "output_type": "display_data"
    }
   ],
   "source": [
    "sx = master_revised.W\n",
    "sy = master_revised.OD\n",
    "sns.jointplot(sx, sy, kind = \"hex\", cmap = \"summer\")"
   ]
  },
  {
   "cell_type": "code",
   "execution_count": 232,
   "metadata": {
    "collapsed": false
   },
   "outputs": [
    {
     "data": {
      "text/plain": [
       "<seaborn.axisgrid.JointGrid at 0x11f52e510>"
      ]
     },
     "execution_count": 232,
     "metadata": {},
     "output_type": "execute_result"
    },
    {
     "data": {
      "image/png": "[encoded data removed]",
      "text/plain": [
       "<matplotlib.figure.Figure at 0x12dfaa290>"
      ]
     },
     "metadata": {},
     "output_type": "display_data"
    }
   ],
   "source": [
    "sx = master_revised.PRG\n",
    "sy = master_revised.PUG\n",
    "sns.jointplot(sx, sy, kind = \"hex\", cmap = \"summer\")"
   ]
  },
  {
   "cell_type": "code",
   "execution_count": 243,
   "metadata": {
    "collapsed": false
   },
   "outputs": [
    {
     "data": {
      "text/plain": [
       "<matplotlib.axes._subplots.AxesSubplot at 0x12a79fc90>"
      ]
     },
     "execution_count": 243,
     "metadata": {},
     "output_type": "execute_result"
    },
    {
     "data": {
      "image/png": "[encoded data removed]",
      "text/plain": [
       "<matplotlib.figure.Figure at 0x1295ba4d0>"
      ]
     },
     "metadata": {},
     "output_type": "display_data"
    }
   ],
   "source": [
    "sns.boxplot(x = \"chol_cat_3\", y = \"LE\", data = master_revised,\n",
    "            orient = \"v\", palette = \"YlGnBu\")"
   ]
  },
  {
   "cell_type": "code",
   "execution_count": 244,
   "metadata": {
    "collapsed": false
   },
   "outputs": [
    {
     "data": {
      "text/plain": [
       "<matplotlib.axes._subplots.AxesSubplot at 0x12a924990>"
      ]
     },
     "execution_count": 244,
     "metadata": {},
     "output_type": "execute_result"
    },
    {
     "data": {
      "image/png": "[encoded data removed]",
      "text/plain": [
       "<matplotlib.figure.Figure at 0x12a4febd0>"
      ]
     },
     "metadata": {},
     "output_type": "display_data"
    }
   ],
   "source": [
    "sns.boxplot(x = \"chol_cat_3\", y = \"F\", data = master_revised,\n",
    "            orient = \"v\", palette = \"YlGnBu\")"
   ]
  },
  {
   "cell_type": "code",
   "execution_count": 246,
   "metadata": {
    "collapsed": false
   },
   "outputs": [
    {
     "data": {
      "text/plain": [
       "<matplotlib.axes._subplots.AxesSubplot at 0x12ab0f390>"
      ]
     },
     "execution_count": 246,
     "metadata": {},
     "output_type": "execute_result"
    },
    {
     "data": {
      "image/png": "[encoded data removed]",
      "text/plain": [
       "<matplotlib.figure.Figure at 0x12a760d10>"
      ]
     },
     "metadata": {},
     "output_type": "display_data"
    }
   ],
   "source": [
    "sns.boxplot(x = \"chol_cat_3\", y = \"W\", data = master_revised,\n",
    "            orient = \"v\", palette = \"YlGnBu\")"
   ]
  },
  {
   "cell_type": "code",
   "execution_count": 247,
   "metadata": {
    "collapsed": false
   },
   "outputs": [
    {
     "data": {
      "text/plain": [
       "<matplotlib.axes._subplots.AxesSubplot at 0x12acc6590>"
      ]
     },
     "execution_count": 247,
     "metadata": {},
     "output_type": "execute_result"
    },
    {
     "data": {
      "image/png": "[encoded data removed]",
      "text/plain": [
       "<matplotlib.figure.Figure at 0x12a5d0150>"
      ]
     },
     "metadata": {},
     "output_type": "display_data"
    }
   ],
   "source": [
    "sns.boxplot(x = \"chol_cat_3\", y = \"WU\", data = master_revised,\n",
    "            orient = \"v\", palette = \"YlGnBu\")"
   ]
  },
  {
   "cell_type": "code",
   "execution_count": 248,
   "metadata": {
    "collapsed": false
   },
   "outputs": [
    {
     "data": {
      "text/plain": [
       "<matplotlib.axes._subplots.AxesSubplot at 0x12aceb090>"
      ]
     },
     "execution_count": 248,
     "metadata": {},
     "output_type": "execute_result"
    },
    {
     "data": {
      "image/png": "[encoded data removed]",
      "text/plain": [
       "<matplotlib.figure.Figure at 0x12a760e50>"
      ]
     },
     "metadata": {},
     "output_type": "display_data"
    }
   ],
   "source": [
    "sns.boxplot(x = \"chol_cat_3\", y = \"WR\", data = master_revised,\n",
    "            orient = \"v\", palette = \"YlGnBu\")"
   ]
  },
  {
   "cell_type": "code",
   "execution_count": 249,
   "metadata": {
    "collapsed": false
   },
   "outputs": [
    {
     "data": {
      "text/plain": [
       "<matplotlib.axes._subplots.AxesSubplot at 0x12b006950>"
      ]
     },
     "execution_count": 249,
     "metadata": {},
     "output_type": "execute_result"
    },
    {
     "data": {
      "image/png": "[encoded data removed]",
      "text/plain": [
       "<matplotlib.figure.Figure at 0x12a78cbd0>"
      ]
     },
     "metadata": {},
     "output_type": "display_data"
    }
   ],
   "source": [
    "sns.boxplot(x = \"chol_cat_3\", y = \"S\", data = master_revised,\n",
    "            orient = \"v\", palette = \"YlGnBu\")"
   ]
  },
  {
   "cell_type": "code",
   "execution_count": 250,
   "metadata": {
    "collapsed": false
   },
   "outputs": [
    {
     "data": {
      "text/plain": [
       "<matplotlib.axes._subplots.AxesSubplot at 0x12bfa45d0>"
      ]
     },
     "execution_count": 250,
     "metadata": {},
     "output_type": "execute_result"
    },
    {
     "data": {
      "image/png": "[encoded data removed]",
      "text/plain": [
       "<matplotlib.figure.Figure at 0x12acebd50>"
      ]
     },
     "metadata": {},
     "output_type": "display_data"
    }
   ],
   "source": [
    "sns.boxplot(x = \"chol_cat_3\", y = \"SU\", data = master_revised,\n",
    "            orient = \"v\", palette = \"YlGnBu\")"
   ]
  },
  {
   "cell_type": "code",
   "execution_count": 251,
   "metadata": {
    "collapsed": false
   },
   "outputs": [
    {
     "data": {
      "text/plain": [
       "<matplotlib.axes._subplots.AxesSubplot at 0x12c153d50>"
      ]
     },
     "execution_count": 251,
     "metadata": {},
     "output_type": "execute_result"
    },
    {
     "data": {
      "image/png": "[encoded data removed]",
      "text/plain": [
       "<matplotlib.figure.Figure at 0x12b006f10>"
      ]
     },
     "metadata": {},
     "output_type": "display_data"
    }
   ],
   "source": [
    "sns.boxplot(x = \"chol_cat_3\", y = \"SR\", data = master_revised,\n",
    "            orient = \"v\", palette = \"YlGnBu\")"
   ]
  },
  {
   "cell_type": "code",
   "execution_count": 252,
   "metadata": {
    "collapsed": false
   },
   "outputs": [
    {
     "data": {
      "text/plain": [
       "<matplotlib.axes._subplots.AxesSubplot at 0x12c30fa90>"
      ]
     },
     "execution_count": 252,
     "metadata": {},
     "output_type": "execute_result"
    },
    {
     "data": {
      "image/png": "[encoded data removed]",
      "text/plain": [
       "<matplotlib.figure.Figure at 0x12c161410>"
      ]
     },
     "metadata": {},
     "output_type": "display_data"
    }
   ],
   "source": [
    "sns.boxplot(x = \"chol_cat_3\", y = \"PR\", data = master_revised,\n",
    "            orient = \"v\", palette = \"YlGnBu\")"
   ]
  },
  {
   "cell_type": "code",
   "execution_count": 253,
   "metadata": {
    "collapsed": false
   },
   "outputs": [
    {
     "data": {
      "text/plain": [
       "<matplotlib.axes._subplots.AxesSubplot at 0x12c32b850>"
      ]
     },
     "execution_count": 253,
     "metadata": {},
     "output_type": "execute_result"
    },
    {
     "data": {
      "image/png": "[encoded data removed]",
      "text/plain": [
       "<matplotlib.figure.Figure at 0x12ad09410>"
      ]
     },
     "metadata": {},
     "output_type": "display_data"
    }
   ],
   "source": [
    "sns.boxplot(x = \"chol_cat_3\", y = \"PU\", data = master_revised,\n",
    "            orient = \"v\", palette = \"YlGnBu\")"
   ]
  },
  {
   "cell_type": "code",
   "execution_count": 254,
   "metadata": {
    "collapsed": false
   },
   "outputs": [
    {
     "data": {
      "text/plain": [
       "<matplotlib.axes._subplots.AxesSubplot at 0x12d6dfed0>"
      ]
     },
     "execution_count": 254,
     "metadata": {},
     "output_type": "execute_result"
    },
    {
     "data": {
      "image/png": "[encoded data removed]",
      "text/plain": [
       "<matplotlib.figure.Figure at 0x12a78c790>"
      ]
     },
     "metadata": {},
     "output_type": "display_data"
    }
   ],
   "source": [
    "sns.boxplot(x = \"chol_cat_3\", y = \"PG\", data = master_revised,\n",
    "            orient = \"v\", palette = \"YlGnBu\")"
   ]
  },
  {
   "cell_type": "code",
   "execution_count": 255,
   "metadata": {
    "collapsed": false
   },
   "outputs": [
    {
     "data": {
      "text/plain": [
       "<matplotlib.axes._subplots.AxesSubplot at 0x12da34e50>"
      ]
     },
     "execution_count": 255,
     "metadata": {},
     "output_type": "execute_result"
    },
    {
     "data": {
      "image/png": "[encoded data removed]",
      "text/plain": [
       "<matplotlib.figure.Figure at 0x12c2e5150>"
      ]
     },
     "metadata": {},
     "output_type": "display_data"
    }
   ],
   "source": [
    "sns.boxplot(x = \"chol_cat_3\", y = \"PUG\", data = master_revised,\n",
    "            orient = \"v\", palette = \"YlGnBu\")"
   ]
  },
  {
   "cell_type": "code",
   "execution_count": 256,
   "metadata": {
    "collapsed": false
   },
   "outputs": [
    {
     "data": {
      "text/plain": [
       "<matplotlib.axes._subplots.AxesSubplot at 0x12d8c4a50>"
      ]
     },
     "execution_count": 256,
     "metadata": {},
     "output_type": "execute_result"
    },
    {
     "data": {
      "image/png": "[encoded data removed]",
      "text/plain": [
       "<matplotlib.figure.Figure at 0x12d742350>"
      ]
     },
     "metadata": {},
     "output_type": "display_data"
    }
   ],
   "source": [
    "sns.boxplot(x = \"chol_cat_3\", y = \"PRG\", data = master_revised,\n",
    "            orient = \"v\", palette = \"YlGnBu\")"
   ]
  },
  {
   "cell_type": "code",
   "execution_count": 257,
   "metadata": {
    "collapsed": false
   },
   "outputs": [
    {
     "data": {
      "text/plain": [
       "Index([u'Intercept', u'SU', u'F:LE', u'SR', u'W:WU', u'S', u'WU:WR', u'LE',\n",
       "       u'temp_c', u'W', u'S:SU', u'WU'],\n",
       "      dtype='object')"
      ]
     },
     "execution_count": 257,
     "metadata": {},
     "output_type": "execute_result"
    }
   ],
   "source": [
    "XX.columns"
   ]
  },
  {
   "cell_type": "code",
   "execution_count": 258,
   "metadata": {
    "collapsed": false
   },
   "outputs": [
    {
     "data": {
      "text/plain": [
       "<matplotlib.axes._subplots.AxesSubplot at 0x12ddb4910>"
      ]
     },
     "execution_count": 258,
     "metadata": {},
     "output_type": "execute_result"
    },
    {
     "data": {
      "image/png": "[encoded data removed]",
      "text/plain": [
       "<matplotlib.figure.Figure at 0x120262dd0>"
      ]
     },
     "metadata": {},
     "output_type": "display_data"
    }
   ],
   "source": [
    "sns.boxplot(x = \"chol_cat_3\", y = \"temp_c\", data = master_revised,\n",
    "            orient = \"v\", palette = \"YlGnBu\")"
   ]
  }
 ],
 "metadata": {
  "kernelspec": {
   "display_name": "Python 2",
   "language": "python",
   "name": "python2"
  },
  "language_info": {
   "codemirror_mode": {
    "name": "ipython",
    "version": 2
   },
   "file_extension": ".py",
   "mimetype": "text/x-python",
   "name": "python",
   "nbconvert_exporter": "python",
   "pygments_lexer": "ipython2",
   "version": "2.7.13"
  }
 },
 "nbformat": 4,
 "nbformat_minor": 2
}
